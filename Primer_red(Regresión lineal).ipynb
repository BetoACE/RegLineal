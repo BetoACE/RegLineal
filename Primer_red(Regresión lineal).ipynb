{
  "nbformat": 4,
  "nbformat_minor": 0,
  "metadata": {
    "colab": {
      "provenance": [],
      "collapsed_sections": [],
      "authorship_tag": "ABX9TyNlWWRrsOvqRGHHUzg+Q9jp",
      "include_colab_link": true
    },
    "kernelspec": {
      "name": "python3",
      "display_name": "Python 3"
    },
    "language_info": {
      "name": "python"
    }
  },
  "cells": [
    {
      "cell_type": "markdown",
      "metadata": {
        "id": "view-in-github",
        "colab_type": "text"
      },
      "source": [
        "<a href=\"https://colab.research.google.com/github/BetoACE/RegLineal/blob/main/Primer_red(Regresi%C3%B3n%20lineal).ipynb\" target=\"_parent\"><img src=\"https://colab.research.google.com/assets/colab-badge.svg\" alt=\"Open In Colab\"/></a>"
      ]
    },
    {
      "cell_type": "code",
      "execution_count": null,
      "metadata": {
        "id": "Tw0KUDUIxNjk"
      },
      "outputs": [],
      "source": []
    },
    {
      "cell_type": "markdown",
      "source": [
        "Regresión lineal"
      ],
      "metadata": {
        "id": "BpL1Sq6TxPJD"
      }
    },
    {
      "cell_type": "code",
      "source": [
        "#importar TF, NP y MP\n",
        "import tensorflow as tf\n",
        "import numpy as np\n",
        "import matplotlib.pyplot as plt"
      ],
      "metadata": {
        "id": "dhQETncxxSaZ"
      },
      "execution_count": 2,
      "outputs": []
    },
    {
      "cell_type": "code",
      "source": [
        "x = np.array([-7.0,-4.0,-1.0,-2.0,5.0,8.0,11.0,14.0])\n",
        "\n",
        "y = np.array([3.0,6.0,9.0,12.0,15.0,18.0,21.0,24.0])\n",
        "\n",
        "#visualizar\n",
        "\n",
        "plt.scatter(x,y)"
      ],
      "metadata": {
        "colab": {
          "base_uri": "https://localhost:8080/",
          "height": 287
        },
        "id": "lHgjhTLnxbWA",
        "outputId": "8df39e39-6710-4efd-d857-d66d709a50d3"
      },
      "execution_count": 7,
      "outputs": [
        {
          "output_type": "execute_result",
          "data": {
            "text/plain": [
              "<matplotlib.collections.PathCollection at 0x7efe2c2caed0>"
            ]
          },
          "metadata": {},
          "execution_count": 7
        },
        {
          "output_type": "display_data",
          "data": {
            "text/plain": [
              "<Figure size 432x288 with 1 Axes>"
            ],
            "image/png": "[encoded data removed]"
          },
          "metadata": {
            "needs_background": "light"
          }
        }
      ]
    },
    {
      "cell_type": "markdown",
      "source": [
        "Modelo 0\n"
      ],
      "metadata": {
        "id": "2gugf5hBzDQW"
      }
    },
    {
      "cell_type": "markdown",
      "source": [],
      "metadata": {
        "id": "9imjmXK2zHRb"
      }
    },
    {
      "cell_type": "markdown",
      "source": [
        "1. Crear el modelo\n",
        "2. Compilar el modelo\n",
        "3. Ajustar modelo\n"
      ],
      "metadata": {
        "id": "WJLit7Y7zOpa"
      }
    },
    {
      "cell_type": "code",
      "source": [
        "#random seed (omitir)\n",
        "tf.random.set_seed(42)\n",
        "\n",
        "#1. Crear el modelo\n",
        "model_1 = tf.keras.Sequential([tf.keras.layers.Dense(1)])\n",
        "\n",
        "#2. Compilar el modelo\n",
        "\n",
        "model_1.compile(loss=tf.keras.losses.mae,optimizer=tf.keras.optimizers.SGD(),metrics = [\"mae\"])\n",
        "\n",
        "#3. Fit model\n",
        "model_1.fit(tf.expand_dims(x, axis=-1), y, epochs=5)"
      ],
      "metadata": {
        "colab": {
          "base_uri": "https://localhost:8080/"
        },
        "id": "Ro3Z61cZzdxK",
        "outputId": "1cc515cf-2685-4c01-862e-b1c454c954a6"
      },
      "execution_count": 8,
      "outputs": [
        {
          "output_type": "stream",
          "name": "stdout",
          "text": [
            "Epoch 1/5\n",
            "1/1 [==============================] - 0s 402ms/step - loss: 11.7898 - mae: 11.7898\n",
            "Epoch 2/5\n",
            "1/1 [==============================] - 0s 11ms/step - loss: 11.6898 - mae: 11.6898\n",
            "Epoch 3/5\n",
            "1/1 [==============================] - 0s 8ms/step - loss: 11.5898 - mae: 11.5898\n",
            "Epoch 4/5\n",
            "1/1 [==============================] - 0s 6ms/step - loss: 11.4898 - mae: 11.4898\n",
            "Epoch 5/5\n",
            "1/1 [==============================] - 0s 6ms/step - loss: 11.3898 - mae: 11.3898\n"
          ]
        },
        {
          "output_type": "execute_result",
          "data": {
            "text/plain": [
              "<keras.callbacks.History at 0x7efe2c2c63d0>"
            ]
          },
          "metadata": {},
          "execution_count": 8
        }
      ]
    }
  ]
}